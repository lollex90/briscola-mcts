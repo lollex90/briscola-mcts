{
 "cells": [
  {
   "cell_type": "code",
   "execution_count": 1,
   "metadata": {},
   "outputs": [],
   "source": [
    "import random\n",
    "from briscola_game import Briscola\n",
    "from players import *\n",
    "from copy import deepcopy\n",
    "\n",
    "random_player = RandomPlayer()\n",
    "human_player_2 = HumanPlayer(2)\n",
    "smart_player = SmartPlayer()  \n",
    "alpha_beta_player = AlphaBetaPlayer()\n",
    "alpha_beta_cutoff_player = AlphaBetaPruningPlayer()\n",
    "my_mcts_player = MyMonteCarloTreeSearchPlayer()\n",
    "mcts_player = MonteCarloTreeSearchPlayer()"
   ]
  },
  {
   "cell_type": "code",
   "execution_count": 2,
   "metadata": {},
   "outputs": [
    {
     "name": "stdout",
     "output_type": "stream",
     "text": [
      "GAME START\n",
      "The trump is:  ('6', 'Denari')\n",
      "Player 1 hand:  [('7', 'Spade'), ('King', 'Coppe'), ('5', 'Denari')]\n",
      "Player 2 hand:  [('3', 'Bastoni'), ('5', 'Spade'), ('King', 'Spade')]\n",
      "The first to play is:  2\n",
      "Initial deck length is:  33\n",
      "Player 2 plays:  ('5', 'Spade')\n",
      "The new state is:  {'hand1': [('7', 'Spade'), ('King', 'Coppe'), ('5', 'Denari')], 'hand2': [('3', 'Bastoni'), ('King', 'Spade')], 'table': [('5', 'Spade')], 'player': 1, 'taken1': [], 'taken2': [], 'briscola': ('6', 'Denari'), 'deck': [('Ace', 'Bastoni'), ('Ace', 'Denari'), ('Ace', 'Spade'), ('Ace', 'Coppe'), ('2', 'Bastoni'), ('2', 'Denari'), ('2', 'Spade'), ('2', 'Coppe'), ('3', 'Denari'), ('3', 'Spade'), ('3', 'Coppe'), ('4', 'Bastoni'), ('4', 'Denari'), ('4', 'Spade'), ('4', 'Coppe'), ('5', 'Bastoni'), ('5', 'Coppe'), ('6', 'Bastoni'), ('6', 'Spade'), ('6', 'Coppe'), ('7', 'Bastoni'), ('7', 'Denari'), ('7', 'Coppe'), ('Jack', 'Bastoni'), ('Jack', 'Denari'), ('Jack', 'Spade'), ('Jack', 'Coppe'), ('Horse', 'Bastoni'), ('Horse', 'Denari'), ('Horse', 'Spade'), ('Horse', 'Coppe'), ('King', 'Bastoni'), ('King', 'Denari')]}\n",
      "Player 1 plays:  ('5', 'Denari')\n",
      "The new state is:  {'hand1': [('7', 'Spade'), ('King', 'Coppe'), ('4', 'Denari')], 'hand2': [('3', 'Bastoni'), ('King', 'Spade'), ('King', 'Denari')], 'table': [], 'player': 1, 'taken1': [('5', 'Spade'), ('5', 'Denari')], 'taken2': [], 'briscola': ('6', 'Denari'), 'deck': [('Ace', 'Bastoni'), ('Ace', 'Denari'), ('Ace', 'Spade'), ('Ace', 'Coppe'), ('2', 'Bastoni'), ('2', 'Denari'), ('2', 'Spade'), ('2', 'Coppe'), ('3', 'Denari'), ('3', 'Spade'), ('3', 'Coppe'), ('4', 'Bastoni'), ('4', 'Spade'), ('4', 'Coppe'), ('5', 'Bastoni'), ('5', 'Coppe'), ('6', 'Bastoni'), ('6', 'Spade'), ('6', 'Coppe'), ('7', 'Bastoni'), ('7', 'Denari'), ('7', 'Coppe'), ('Jack', 'Bastoni'), ('Jack', 'Denari'), ('Jack', 'Spade'), ('Jack', 'Coppe'), ('Horse', 'Bastoni'), ('Horse', 'Denari'), ('Horse', 'Spade'), ('Horse', 'Coppe'), ('King', 'Bastoni')]}\n",
      "Player 1 plays:  ('7', 'Spade')\n",
      "The new state is:  {'hand1': [('King', 'Coppe'), ('4', 'Denari')], 'hand2': [('3', 'Bastoni'), ('King', 'Spade'), ('King', 'Denari')], 'table': [('7', 'Spade')], 'player': 2, 'taken1': [('5', 'Spade'), ('5', 'Denari')], 'taken2': [], 'briscola': ('6', 'Denari'), 'deck': [('Ace', 'Bastoni'), ('Ace', 'Denari'), ('Ace', 'Spade'), ('Ace', 'Coppe'), ('2', 'Bastoni'), ('2', 'Denari'), ('2', 'Spade'), ('2', 'Coppe'), ('3', 'Denari'), ('3', 'Spade'), ('3', 'Coppe'), ('4', 'Bastoni'), ('4', 'Spade'), ('4', 'Coppe'), ('5', 'Bastoni'), ('5', 'Coppe'), ('6', 'Bastoni'), ('6', 'Spade'), ('6', 'Coppe'), ('7', 'Bastoni'), ('7', 'Denari'), ('7', 'Coppe'), ('Jack', 'Bastoni'), ('Jack', 'Denari'), ('Jack', 'Spade'), ('Jack', 'Coppe'), ('Horse', 'Bastoni'), ('Horse', 'Denari'), ('Horse', 'Spade'), ('Horse', 'Coppe'), ('King', 'Bastoni')]}\n",
      "Player 2 plays:  ('King', 'Spade')\n",
      "The new state is:  {'hand1': [('King', 'Coppe'), ('4', 'Denari'), ('Ace', 'Spade')], 'hand2': [('3', 'Bastoni'), ('King', 'Denari'), ('2', 'Denari')], 'table': [], 'player': 2, 'taken1': [('5', 'Spade'), ('5', 'Denari')], 'taken2': [('7', 'Spade'), ('King', 'Spade')], 'briscola': ('6', 'Denari'), 'deck': [('Ace', 'Bastoni'), ('Ace', 'Denari'), ('Ace', 'Coppe'), ('2', 'Bastoni'), ('2', 'Spade'), ('2', 'Coppe'), ('3', 'Denari'), ('3', 'Spade'), ('3', 'Coppe'), ('4', 'Bastoni'), ('4', 'Spade'), ('4', 'Coppe'), ('5', 'Bastoni'), ('5', 'Coppe'), ('6', 'Bastoni'), ('6', 'Spade'), ('6', 'Coppe'), ('7', 'Bastoni'), ('7', 'Denari'), ('7', 'Coppe'), ('Jack', 'Bastoni'), ('Jack', 'Denari'), ('Jack', 'Spade'), ('Jack', 'Coppe'), ('Horse', 'Bastoni'), ('Horse', 'Denari'), ('Horse', 'Spade'), ('Horse', 'Coppe'), ('King', 'Bastoni')]}\n",
      "Player 2 plays:  ('2', 'Denari')\n",
      "The new state is:  {'hand1': [('King', 'Coppe'), ('4', 'Denari'), ('Ace', 'Spade')], 'hand2': [('3', 'Bastoni'), ('King', 'Denari')], 'table': [('2', 'Denari')], 'player': 1, 'taken1': [('5', 'Spade'), ('5', 'Denari')], 'taken2': [('7', 'Spade'), ('King', 'Spade')], 'briscola': ('6', 'Denari'), 'deck': [('Ace', 'Bastoni'), ('Ace', 'Denari'), ('Ace', 'Coppe'), ('2', 'Bastoni'), ('2', 'Spade'), ('2', 'Coppe'), ('3', 'Denari'), ('3', 'Spade'), ('3', 'Coppe'), ('4', 'Bastoni'), ('4', 'Spade'), ('4', 'Coppe'), ('5', 'Bastoni'), ('5', 'Coppe'), ('6', 'Bastoni'), ('6', 'Spade'), ('6', 'Coppe'), ('7', 'Bastoni'), ('7', 'Denari'), ('7', 'Coppe'), ('Jack', 'Bastoni'), ('Jack', 'Denari'), ('Jack', 'Spade'), ('Jack', 'Coppe'), ('Horse', 'Bastoni'), ('Horse', 'Denari'), ('Horse', 'Spade'), ('Horse', 'Coppe'), ('King', 'Bastoni')]}\n",
      "Player 1 plays:  ('4', 'Denari')\n",
      "The new state is:  {'hand1': [('King', 'Coppe'), ('Ace', 'Spade'), ('Jack', 'Bastoni')], 'hand2': [('3', 'Bastoni'), ('King', 'Denari'), ('Ace', 'Coppe')], 'table': [], 'player': 1, 'taken1': [('5', 'Spade'), ('5', 'Denari'), ('2', 'Denari'), ('4', 'Denari')], 'taken2': [('7', 'Spade'), ('King', 'Spade')], 'briscola': ('6', 'Denari'), 'deck': [('Ace', 'Bastoni'), ('Ace', 'Denari'), ('2', 'Bastoni'), ('2', 'Spade'), ('2', 'Coppe'), ('3', 'Denari'), ('3', 'Spade'), ('3', 'Coppe'), ('4', 'Bastoni'), ('4', 'Spade'), ('4', 'Coppe'), ('5', 'Bastoni'), ('5', 'Coppe'), ('6', 'Bastoni'), ('6', 'Spade'), ('6', 'Coppe'), ('7', 'Bastoni'), ('7', 'Denari'), ('7', 'Coppe'), ('Jack', 'Denari'), ('Jack', 'Spade'), ('Jack', 'Coppe'), ('Horse', 'Bastoni'), ('Horse', 'Denari'), ('Horse', 'Spade'), ('Horse', 'Coppe'), ('King', 'Bastoni')]}\n",
      "Player 1 plays:  ('King', 'Coppe')\n",
      "The new state is:  {'hand1': [('Ace', 'Spade'), ('Jack', 'Bastoni')], 'hand2': [('3', 'Bastoni'), ('King', 'Denari'), ('Ace', 'Coppe')], 'table': [('King', 'Coppe')], 'player': 2, 'taken1': [('5', 'Spade'), ('5', 'Denari'), ('2', 'Denari'), ('4', 'Denari')], 'taken2': [('7', 'Spade'), ('King', 'Spade')], 'briscola': ('6', 'Denari'), 'deck': [('Ace', 'Bastoni'), ('Ace', 'Denari'), ('2', 'Bastoni'), ('2', 'Spade'), ('2', 'Coppe'), ('3', 'Denari'), ('3', 'Spade'), ('3', 'Coppe'), ('4', 'Bastoni'), ('4', 'Spade'), ('4', 'Coppe'), ('5', 'Bastoni'), ('5', 'Coppe'), ('6', 'Bastoni'), ('6', 'Spade'), ('6', 'Coppe'), ('7', 'Bastoni'), ('7', 'Denari'), ('7', 'Coppe'), ('Jack', 'Denari'), ('Jack', 'Spade'), ('Jack', 'Coppe'), ('Horse', 'Bastoni'), ('Horse', 'Denari'), ('Horse', 'Spade'), ('Horse', 'Coppe'), ('King', 'Bastoni')]}\n",
      "Player 2 plays:  ('Ace', 'Coppe')\n",
      "The new state is:  {'hand1': [('Ace', 'Spade'), ('Jack', 'Bastoni'), ('3', 'Denari')], 'hand2': [('3', 'Bastoni'), ('King', 'Denari'), ('2', 'Bastoni')], 'table': [], 'player': 2, 'taken1': [('5', 'Spade'), ('5', 'Denari'), ('2', 'Denari'), ('4', 'Denari')], 'taken2': [('7', 'Spade'), ('King', 'Spade'), ('King', 'Coppe'), ('Ace', 'Coppe')], 'briscola': ('6', 'Denari'), 'deck': [('Ace', 'Bastoni'), ('Ace', 'Denari'), ('2', 'Spade'), ('2', 'Coppe'), ('3', 'Spade'), ('3', 'Coppe'), ('4', 'Bastoni'), ('4', 'Spade'), ('4', 'Coppe'), ('5', 'Bastoni'), ('5', 'Coppe'), ('6', 'Bastoni'), ('6', 'Spade'), ('6', 'Coppe'), ('7', 'Bastoni'), ('7', 'Denari'), ('7', 'Coppe'), ('Jack', 'Denari'), ('Jack', 'Spade'), ('Jack', 'Coppe'), ('Horse', 'Bastoni'), ('Horse', 'Denari'), ('Horse', 'Spade'), ('Horse', 'Coppe'), ('King', 'Bastoni')]}\n",
      "Player 2 plays:  ('2', 'Bastoni')\n",
      "The new state is:  {'hand1': [('Ace', 'Spade'), ('Jack', 'Bastoni'), ('3', 'Denari')], 'hand2': [('3', 'Bastoni'), ('King', 'Denari')], 'table': [('2', 'Bastoni')], 'player': 1, 'taken1': [('5', 'Spade'), ('5', 'Denari'), ('2', 'Denari'), ('4', 'Denari')], 'taken2': [('7', 'Spade'), ('King', 'Spade'), ('King', 'Coppe'), ('Ace', 'Coppe')], 'briscola': ('6', 'Denari'), 'deck': [('Ace', 'Bastoni'), ('Ace', 'Denari'), ('2', 'Spade'), ('2', 'Coppe'), ('3', 'Spade'), ('3', 'Coppe'), ('4', 'Bastoni'), ('4', 'Spade'), ('4', 'Coppe'), ('5', 'Bastoni'), ('5', 'Coppe'), ('6', 'Bastoni'), ('6', 'Spade'), ('6', 'Coppe'), ('7', 'Bastoni'), ('7', 'Denari'), ('7', 'Coppe'), ('Jack', 'Denari'), ('Jack', 'Spade'), ('Jack', 'Coppe'), ('Horse', 'Bastoni'), ('Horse', 'Denari'), ('Horse', 'Spade'), ('Horse', 'Coppe'), ('King', 'Bastoni')]}\n",
      "Player 1 plays:  ('Jack', 'Bastoni')\n",
      "The new state is:  {'hand1': [('Ace', 'Spade'), ('3', 'Denari'), ('3', 'Spade')], 'hand2': [('3', 'Bastoni'), ('King', 'Denari'), ('Horse', 'Coppe')], 'table': [], 'player': 1, 'taken1': [('5', 'Spade'), ('5', 'Denari'), ('2', 'Denari'), ('4', 'Denari'), ('2', 'Bastoni'), ('Jack', 'Bastoni')], 'taken2': [('7', 'Spade'), ('King', 'Spade'), ('King', 'Coppe'), ('Ace', 'Coppe')], 'briscola': ('6', 'Denari'), 'deck': [('Ace', 'Bastoni'), ('Ace', 'Denari'), ('2', 'Spade'), ('2', 'Coppe'), ('3', 'Coppe'), ('4', 'Bastoni'), ('4', 'Spade'), ('4', 'Coppe'), ('5', 'Bastoni'), ('5', 'Coppe'), ('6', 'Bastoni'), ('6', 'Spade'), ('6', 'Coppe'), ('7', 'Bastoni'), ('7', 'Denari'), ('7', 'Coppe'), ('Jack', 'Denari'), ('Jack', 'Spade'), ('Jack', 'Coppe'), ('Horse', 'Bastoni'), ('Horse', 'Denari'), ('Horse', 'Spade'), ('King', 'Bastoni')]}\n",
      "Player 1 plays:  ('3', 'Spade')\n",
      "The new state is:  {'hand1': [('Ace', 'Spade'), ('3', 'Denari')], 'hand2': [('3', 'Bastoni'), ('King', 'Denari'), ('Horse', 'Coppe')], 'table': [('3', 'Spade')], 'player': 2, 'taken1': [('5', 'Spade'), ('5', 'Denari'), ('2', 'Denari'), ('4', 'Denari'), ('2', 'Bastoni'), ('Jack', 'Bastoni')], 'taken2': [('7', 'Spade'), ('King', 'Spade'), ('King', 'Coppe'), ('Ace', 'Coppe')], 'briscola': ('6', 'Denari'), 'deck': [('Ace', 'Bastoni'), ('Ace', 'Denari'), ('2', 'Spade'), ('2', 'Coppe'), ('3', 'Coppe'), ('4', 'Bastoni'), ('4', 'Spade'), ('4', 'Coppe'), ('5', 'Bastoni'), ('5', 'Coppe'), ('6', 'Bastoni'), ('6', 'Spade'), ('6', 'Coppe'), ('7', 'Bastoni'), ('7', 'Denari'), ('7', 'Coppe'), ('Jack', 'Denari'), ('Jack', 'Spade'), ('Jack', 'Coppe'), ('Horse', 'Bastoni'), ('Horse', 'Denari'), ('Horse', 'Spade'), ('King', 'Bastoni')]}\n",
      "Player 2 plays:  ('King', 'Denari')\n",
      "The new state is:  {'hand1': [('Ace', 'Spade'), ('3', 'Denari'), ('6', 'Bastoni')], 'hand2': [('3', 'Bastoni'), ('Horse', 'Coppe'), ('6', 'Spade')], 'table': [], 'player': 2, 'taken1': [('5', 'Spade'), ('5', 'Denari'), ('2', 'Denari'), ('4', 'Denari'), ('2', 'Bastoni'), ('Jack', 'Bastoni')], 'taken2': [('7', 'Spade'), ('King', 'Spade'), ('King', 'Coppe'), ('Ace', 'Coppe'), ('3', 'Spade'), ('King', 'Denari')], 'briscola': ('6', 'Denari'), 'deck': [('Ace', 'Bastoni'), ('Ace', 'Denari'), ('2', 'Spade'), ('2', 'Coppe'), ('3', 'Coppe'), ('4', 'Bastoni'), ('4', 'Spade'), ('4', 'Coppe'), ('5', 'Bastoni'), ('5', 'Coppe'), ('6', 'Coppe'), ('7', 'Bastoni'), ('7', 'Denari'), ('7', 'Coppe'), ('Jack', 'Denari'), ('Jack', 'Spade'), ('Jack', 'Coppe'), ('Horse', 'Bastoni'), ('Horse', 'Denari'), ('Horse', 'Spade'), ('King', 'Bastoni')]}\n",
      "Player 2 plays:  ('6', 'Spade')\n",
      "The new state is:  {'hand1': [('Ace', 'Spade'), ('3', 'Denari'), ('6', 'Bastoni')], 'hand2': [('3', 'Bastoni'), ('Horse', 'Coppe')], 'table': [('6', 'Spade')], 'player': 1, 'taken1': [('5', 'Spade'), ('5', 'Denari'), ('2', 'Denari'), ('4', 'Denari'), ('2', 'Bastoni'), ('Jack', 'Bastoni')], 'taken2': [('7', 'Spade'), ('King', 'Spade'), ('King', 'Coppe'), ('Ace', 'Coppe'), ('3', 'Spade'), ('King', 'Denari')], 'briscola': ('6', 'Denari'), 'deck': [('Ace', 'Bastoni'), ('Ace', 'Denari'), ('2', 'Spade'), ('2', 'Coppe'), ('3', 'Coppe'), ('4', 'Bastoni'), ('4', 'Spade'), ('4', 'Coppe'), ('5', 'Bastoni'), ('5', 'Coppe'), ('6', 'Coppe'), ('7', 'Bastoni'), ('7', 'Denari'), ('7', 'Coppe'), ('Jack', 'Denari'), ('Jack', 'Spade'), ('Jack', 'Coppe'), ('Horse', 'Bastoni'), ('Horse', 'Denari'), ('Horse', 'Spade'), ('King', 'Bastoni')]}\n",
      "Player 1 plays:  ('Ace', 'Spade')\n",
      "The new state is:  {'hand1': [('3', 'Denari'), ('6', 'Bastoni'), ('2', 'Coppe')], 'hand2': [('3', 'Bastoni'), ('Horse', 'Coppe'), ('2', 'Spade')], 'table': [], 'player': 1, 'taken1': [('5', 'Spade'), ('5', 'Denari'), ('2', 'Denari'), ('4', 'Denari'), ('2', 'Bastoni'), ('Jack', 'Bastoni'), ('6', 'Spade'), ('Ace', 'Spade')], 'taken2': [('7', 'Spade'), ('King', 'Spade'), ('King', 'Coppe'), ('Ace', 'Coppe'), ('3', 'Spade'), ('King', 'Denari')], 'briscola': ('6', 'Denari'), 'deck': [('Ace', 'Bastoni'), ('Ace', 'Denari'), ('3', 'Coppe'), ('4', 'Bastoni'), ('4', 'Spade'), ('4', 'Coppe'), ('5', 'Bastoni'), ('5', 'Coppe'), ('6', 'Coppe'), ('7', 'Bastoni'), ('7', 'Denari'), ('7', 'Coppe'), ('Jack', 'Denari'), ('Jack', 'Spade'), ('Jack', 'Coppe'), ('Horse', 'Bastoni'), ('Horse', 'Denari'), ('Horse', 'Spade'), ('King', 'Bastoni')]}\n",
      "Player 1 plays:  ('3', 'Denari')\n",
      "The new state is:  {'hand1': [('6', 'Bastoni'), ('2', 'Coppe')], 'hand2': [('3', 'Bastoni'), ('Horse', 'Coppe'), ('2', 'Spade')], 'table': [('3', 'Denari')], 'player': 2, 'taken1': [('5', 'Spade'), ('5', 'Denari'), ('2', 'Denari'), ('4', 'Denari'), ('2', 'Bastoni'), ('Jack', 'Bastoni'), ('6', 'Spade'), ('Ace', 'Spade')], 'taken2': [('7', 'Spade'), ('King', 'Spade'), ('King', 'Coppe'), ('Ace', 'Coppe'), ('3', 'Spade'), ('King', 'Denari')], 'briscola': ('6', 'Denari'), 'deck': [('Ace', 'Bastoni'), ('Ace', 'Denari'), ('3', 'Coppe'), ('4', 'Bastoni'), ('4', 'Spade'), ('4', 'Coppe'), ('5', 'Bastoni'), ('5', 'Coppe'), ('6', 'Coppe'), ('7', 'Bastoni'), ('7', 'Denari'), ('7', 'Coppe'), ('Jack', 'Denari'), ('Jack', 'Spade'), ('Jack', 'Coppe'), ('Horse', 'Bastoni'), ('Horse', 'Denari'), ('Horse', 'Spade'), ('King', 'Bastoni')]}\n",
      "Player 2 plays:  ('2', 'Spade')\n",
      "The new state is:  {'hand1': [('6', 'Bastoni'), ('2', 'Coppe'), ('7', 'Coppe')], 'hand2': [('3', 'Bastoni'), ('Horse', 'Coppe'), ('7', 'Bastoni')], 'table': [], 'player': 1, 'taken1': [('5', 'Spade'), ('5', 'Denari'), ('2', 'Denari'), ('4', 'Denari'), ('2', 'Bastoni'), ('Jack', 'Bastoni'), ('6', 'Spade'), ('Ace', 'Spade'), ('3', 'Denari'), ('2', 'Spade')], 'taken2': [('7', 'Spade'), ('King', 'Spade'), ('King', 'Coppe'), ('Ace', 'Coppe'), ('3', 'Spade'), ('King', 'Denari')], 'briscola': ('6', 'Denari'), 'deck': [('Ace', 'Bastoni'), ('Ace', 'Denari'), ('3', 'Coppe'), ('4', 'Bastoni'), ('4', 'Spade'), ('4', 'Coppe'), ('5', 'Bastoni'), ('5', 'Coppe'), ('6', 'Coppe'), ('7', 'Denari'), ('Jack', 'Denari'), ('Jack', 'Spade'), ('Jack', 'Coppe'), ('Horse', 'Bastoni'), ('Horse', 'Denari'), ('Horse', 'Spade'), ('King', 'Bastoni')]}\n",
      "Player 1 plays:  ('2', 'Coppe')\n",
      "The new state is:  {'hand1': [('6', 'Bastoni'), ('7', 'Coppe')], 'hand2': [('3', 'Bastoni'), ('Horse', 'Coppe'), ('7', 'Bastoni')], 'table': [('2', 'Coppe')], 'player': 2, 'taken1': [('5', 'Spade'), ('5', 'Denari'), ('2', 'Denari'), ('4', 'Denari'), ('2', 'Bastoni'), ('Jack', 'Bastoni'), ('6', 'Spade'), ('Ace', 'Spade'), ('3', 'Denari'), ('2', 'Spade')], 'taken2': [('7', 'Spade'), ('King', 'Spade'), ('King', 'Coppe'), ('Ace', 'Coppe'), ('3', 'Spade'), ('King', 'Denari')], 'briscola': ('6', 'Denari'), 'deck': [('Ace', 'Bastoni'), ('Ace', 'Denari'), ('3', 'Coppe'), ('4', 'Bastoni'), ('4', 'Spade'), ('4', 'Coppe'), ('5', 'Bastoni'), ('5', 'Coppe'), ('6', 'Coppe'), ('7', 'Denari'), ('Jack', 'Denari'), ('Jack', 'Spade'), ('Jack', 'Coppe'), ('Horse', 'Bastoni'), ('Horse', 'Denari'), ('Horse', 'Spade'), ('King', 'Bastoni')]}\n",
      "Player 2 plays:  ('Horse', 'Coppe')\n",
      "The new state is:  {'hand1': [('6', 'Bastoni'), ('7', 'Coppe'), ('Horse', 'Denari')], 'hand2': [('3', 'Bastoni'), ('7', 'Bastoni'), ('3', 'Coppe')], 'table': [], 'player': 2, 'taken1': [('5', 'Spade'), ('5', 'Denari'), ('2', 'Denari'), ('4', 'Denari'), ('2', 'Bastoni'), ('Jack', 'Bastoni'), ('6', 'Spade'), ('Ace', 'Spade'), ('3', 'Denari'), ('2', 'Spade')], 'taken2': [('7', 'Spade'), ('King', 'Spade'), ('King', 'Coppe'), ('Ace', 'Coppe'), ('3', 'Spade'), ('King', 'Denari'), ('2', 'Coppe'), ('Horse', 'Coppe')], 'briscola': ('6', 'Denari'), 'deck': [('Ace', 'Bastoni'), ('Ace', 'Denari'), ('4', 'Bastoni'), ('4', 'Spade'), ('4', 'Coppe'), ('5', 'Bastoni'), ('5', 'Coppe'), ('6', 'Coppe'), ('7', 'Denari'), ('Jack', 'Denari'), ('Jack', 'Spade'), ('Jack', 'Coppe'), ('Horse', 'Bastoni'), ('Horse', 'Spade'), ('King', 'Bastoni')]}\n",
      "Player 2 plays:  ('7', 'Bastoni')\n",
      "The new state is:  {'hand1': [('6', 'Bastoni'), ('7', 'Coppe'), ('Horse', 'Denari')], 'hand2': [('3', 'Bastoni'), ('3', 'Coppe')], 'table': [('7', 'Bastoni')], 'player': 1, 'taken1': [('5', 'Spade'), ('5', 'Denari'), ('2', 'Denari'), ('4', 'Denari'), ('2', 'Bastoni'), ('Jack', 'Bastoni'), ('6', 'Spade'), ('Ace', 'Spade'), ('3', 'Denari'), ('2', 'Spade')], 'taken2': [('7', 'Spade'), ('King', 'Spade'), ('King', 'Coppe'), ('Ace', 'Coppe'), ('3', 'Spade'), ('King', 'Denari'), ('2', 'Coppe'), ('Horse', 'Coppe')], 'briscola': ('6', 'Denari'), 'deck': [('Ace', 'Bastoni'), ('Ace', 'Denari'), ('4', 'Bastoni'), ('4', 'Spade'), ('4', 'Coppe'), ('5', 'Bastoni'), ('5', 'Coppe'), ('6', 'Coppe'), ('7', 'Denari'), ('Jack', 'Denari'), ('Jack', 'Spade'), ('Jack', 'Coppe'), ('Horse', 'Bastoni'), ('Horse', 'Spade'), ('King', 'Bastoni')]}\n",
      "Player 1 plays:  ('Horse', 'Denari')\n",
      "The new state is:  {'hand1': [('6', 'Bastoni'), ('7', 'Coppe'), ('4', 'Bastoni')], 'hand2': [('3', 'Bastoni'), ('3', 'Coppe'), ('Ace', 'Bastoni')], 'table': [], 'player': 1, 'taken1': [('5', 'Spade'), ('5', 'Denari'), ('2', 'Denari'), ('4', 'Denari'), ('2', 'Bastoni'), ('Jack', 'Bastoni'), ('6', 'Spade'), ('Ace', 'Spade'), ('3', 'Denari'), ('2', 'Spade'), ('7', 'Bastoni'), ('Horse', 'Denari')], 'taken2': [('7', 'Spade'), ('King', 'Spade'), ('King', 'Coppe'), ('Ace', 'Coppe'), ('3', 'Spade'), ('King', 'Denari'), ('2', 'Coppe'), ('Horse', 'Coppe')], 'briscola': ('6', 'Denari'), 'deck': [('Ace', 'Denari'), ('4', 'Spade'), ('4', 'Coppe'), ('5', 'Bastoni'), ('5', 'Coppe'), ('6', 'Coppe'), ('7', 'Denari'), ('Jack', 'Denari'), ('Jack', 'Spade'), ('Jack', 'Coppe'), ('Horse', 'Bastoni'), ('Horse', 'Spade'), ('King', 'Bastoni')]}\n",
      "Player 1 plays:  ('4', 'Bastoni')\n",
      "The new state is:  {'hand1': [('6', 'Bastoni'), ('7', 'Coppe')], 'hand2': [('3', 'Bastoni'), ('3', 'Coppe'), ('Ace', 'Bastoni')], 'table': [('4', 'Bastoni')], 'player': 2, 'taken1': [('5', 'Spade'), ('5', 'Denari'), ('2', 'Denari'), ('4', 'Denari'), ('2', 'Bastoni'), ('Jack', 'Bastoni'), ('6', 'Spade'), ('Ace', 'Spade'), ('3', 'Denari'), ('2', 'Spade'), ('7', 'Bastoni'), ('Horse', 'Denari')], 'taken2': [('7', 'Spade'), ('King', 'Spade'), ('King', 'Coppe'), ('Ace', 'Coppe'), ('3', 'Spade'), ('King', 'Denari'), ('2', 'Coppe'), ('Horse', 'Coppe')], 'briscola': ('6', 'Denari'), 'deck': [('Ace', 'Denari'), ('4', 'Spade'), ('4', 'Coppe'), ('5', 'Bastoni'), ('5', 'Coppe'), ('6', 'Coppe'), ('7', 'Denari'), ('Jack', 'Denari'), ('Jack', 'Spade'), ('Jack', 'Coppe'), ('Horse', 'Bastoni'), ('Horse', 'Spade'), ('King', 'Bastoni')]}\n",
      "Player 2 plays:  ('Ace', 'Bastoni')\n",
      "The new state is:  {'hand1': [('6', 'Bastoni'), ('7', 'Coppe'), ('Jack', 'Coppe')], 'hand2': [('3', 'Bastoni'), ('3', 'Coppe'), ('4', 'Spade')], 'table': [], 'player': 2, 'taken1': [('5', 'Spade'), ('5', 'Denari'), ('2', 'Denari'), ('4', 'Denari'), ('2', 'Bastoni'), ('Jack', 'Bastoni'), ('6', 'Spade'), ('Ace', 'Spade'), ('3', 'Denari'), ('2', 'Spade'), ('7', 'Bastoni'), ('Horse', 'Denari')], 'taken2': [('7', 'Spade'), ('King', 'Spade'), ('King', 'Coppe'), ('Ace', 'Coppe'), ('3', 'Spade'), ('King', 'Denari'), ('2', 'Coppe'), ('Horse', 'Coppe'), ('4', 'Bastoni'), ('Ace', 'Bastoni')], 'briscola': ('6', 'Denari'), 'deck': [('Ace', 'Denari'), ('4', 'Coppe'), ('5', 'Bastoni'), ('5', 'Coppe'), ('6', 'Coppe'), ('7', 'Denari'), ('Jack', 'Denari'), ('Jack', 'Spade'), ('Horse', 'Bastoni'), ('Horse', 'Spade'), ('King', 'Bastoni')]}\n",
      "Player 2 plays:  ('4', 'Spade')\n",
      "The new state is:  {'hand1': [('6', 'Bastoni'), ('7', 'Coppe'), ('Jack', 'Coppe')], 'hand2': [('3', 'Bastoni'), ('3', 'Coppe')], 'table': [('4', 'Spade')], 'player': 1, 'taken1': [('5', 'Spade'), ('5', 'Denari'), ('2', 'Denari'), ('4', 'Denari'), ('2', 'Bastoni'), ('Jack', 'Bastoni'), ('6', 'Spade'), ('Ace', 'Spade'), ('3', 'Denari'), ('2', 'Spade'), ('7', 'Bastoni'), ('Horse', 'Denari')], 'taken2': [('7', 'Spade'), ('King', 'Spade'), ('King', 'Coppe'), ('Ace', 'Coppe'), ('3', 'Spade'), ('King', 'Denari'), ('2', 'Coppe'), ('Horse', 'Coppe'), ('4', 'Bastoni'), ('Ace', 'Bastoni')], 'briscola': ('6', 'Denari'), 'deck': [('Ace', 'Denari'), ('4', 'Coppe'), ('5', 'Bastoni'), ('5', 'Coppe'), ('6', 'Coppe'), ('7', 'Denari'), ('Jack', 'Denari'), ('Jack', 'Spade'), ('Horse', 'Bastoni'), ('Horse', 'Spade'), ('King', 'Bastoni')]}\n",
      "Player 1 plays:  ('6', 'Bastoni')\n",
      "The new state is:  {'hand1': [('7', 'Coppe'), ('Jack', 'Coppe'), ('5', 'Coppe')], 'hand2': [('3', 'Bastoni'), ('3', 'Coppe'), ('Jack', 'Denari')], 'table': [], 'player': 2, 'taken1': [('5', 'Spade'), ('5', 'Denari'), ('2', 'Denari'), ('4', 'Denari'), ('2', 'Bastoni'), ('Jack', 'Bastoni'), ('6', 'Spade'), ('Ace', 'Spade'), ('3', 'Denari'), ('2', 'Spade'), ('7', 'Bastoni'), ('Horse', 'Denari')], 'taken2': [('7', 'Spade'), ('King', 'Spade'), ('King', 'Coppe'), ('Ace', 'Coppe'), ('3', 'Spade'), ('King', 'Denari'), ('2', 'Coppe'), ('Horse', 'Coppe'), ('4', 'Bastoni'), ('Ace', 'Bastoni'), ('4', 'Spade'), ('6', 'Bastoni')], 'briscola': ('6', 'Denari'), 'deck': [('Ace', 'Denari'), ('4', 'Coppe'), ('5', 'Bastoni'), ('6', 'Coppe'), ('7', 'Denari'), ('Jack', 'Spade'), ('Horse', 'Bastoni'), ('Horse', 'Spade'), ('King', 'Bastoni')]}\n",
      "Player 2 plays:  ('Jack', 'Denari')\n",
      "The new state is:  {'hand1': [('7', 'Coppe'), ('Jack', 'Coppe'), ('5', 'Coppe')], 'hand2': [('3', 'Bastoni'), ('3', 'Coppe')], 'table': [('Jack', 'Denari')], 'player': 1, 'taken1': [('5', 'Spade'), ('5', 'Denari'), ('2', 'Denari'), ('4', 'Denari'), ('2', 'Bastoni'), ('Jack', 'Bastoni'), ('6', 'Spade'), ('Ace', 'Spade'), ('3', 'Denari'), ('2', 'Spade'), ('7', 'Bastoni'), ('Horse', 'Denari')], 'taken2': [('7', 'Spade'), ('King', 'Spade'), ('King', 'Coppe'), ('Ace', 'Coppe'), ('3', 'Spade'), ('King', 'Denari'), ('2', 'Coppe'), ('Horse', 'Coppe'), ('4', 'Bastoni'), ('Ace', 'Bastoni'), ('4', 'Spade'), ('6', 'Bastoni')], 'briscola': ('6', 'Denari'), 'deck': [('Ace', 'Denari'), ('4', 'Coppe'), ('5', 'Bastoni'), ('6', 'Coppe'), ('7', 'Denari'), ('Jack', 'Spade'), ('Horse', 'Bastoni'), ('Horse', 'Spade'), ('King', 'Bastoni')]}\n",
      "Player 1 plays:  ('5', 'Coppe')\n",
      "The new state is:  {'hand1': [('7', 'Coppe'), ('Jack', 'Coppe'), ('4', 'Coppe')], 'hand2': [('3', 'Bastoni'), ('3', 'Coppe'), ('Horse', 'Spade')], 'table': [], 'player': 2, 'taken1': [('5', 'Spade'), ('5', 'Denari'), ('2', 'Denari'), ('4', 'Denari'), ('2', 'Bastoni'), ('Jack', 'Bastoni'), ('6', 'Spade'), ('Ace', 'Spade'), ('3', 'Denari'), ('2', 'Spade'), ('7', 'Bastoni'), ('Horse', 'Denari')], 'taken2': [('7', 'Spade'), ('King', 'Spade'), ('King', 'Coppe'), ('Ace', 'Coppe'), ('3', 'Spade'), ('King', 'Denari'), ('2', 'Coppe'), ('Horse', 'Coppe'), ('4', 'Bastoni'), ('Ace', 'Bastoni'), ('4', 'Spade'), ('6', 'Bastoni'), ('Jack', 'Denari'), ('5', 'Coppe')], 'briscola': ('6', 'Denari'), 'deck': [('Ace', 'Denari'), ('5', 'Bastoni'), ('6', 'Coppe'), ('7', 'Denari'), ('Jack', 'Spade'), ('Horse', 'Bastoni'), ('King', 'Bastoni')]}\n",
      "Player 2 plays:  ('Horse', 'Spade')\n",
      "The new state is:  {'hand1': [('7', 'Coppe'), ('Jack', 'Coppe'), ('4', 'Coppe')], 'hand2': [('3', 'Bastoni'), ('3', 'Coppe')], 'table': [('Horse', 'Spade')], 'player': 1, 'taken1': [('5', 'Spade'), ('5', 'Denari'), ('2', 'Denari'), ('4', 'Denari'), ('2', 'Bastoni'), ('Jack', 'Bastoni'), ('6', 'Spade'), ('Ace', 'Spade'), ('3', 'Denari'), ('2', 'Spade'), ('7', 'Bastoni'), ('Horse', 'Denari')], 'taken2': [('7', 'Spade'), ('King', 'Spade'), ('King', 'Coppe'), ('Ace', 'Coppe'), ('3', 'Spade'), ('King', 'Denari'), ('2', 'Coppe'), ('Horse', 'Coppe'), ('4', 'Bastoni'), ('Ace', 'Bastoni'), ('4', 'Spade'), ('6', 'Bastoni'), ('Jack', 'Denari'), ('5', 'Coppe')], 'briscola': ('6', 'Denari'), 'deck': [('Ace', 'Denari'), ('5', 'Bastoni'), ('6', 'Coppe'), ('7', 'Denari'), ('Jack', 'Spade'), ('Horse', 'Bastoni'), ('King', 'Bastoni')]}\n",
      "Player 1 plays:  ('7', 'Coppe')\n",
      "The new state is:  {'hand1': [('Jack', 'Coppe'), ('4', 'Coppe'), ('7', 'Denari')], 'hand2': [('3', 'Bastoni'), ('3', 'Coppe'), ('Horse', 'Bastoni')], 'table': [], 'player': 2, 'taken1': [('5', 'Spade'), ('5', 'Denari'), ('2', 'Denari'), ('4', 'Denari'), ('2', 'Bastoni'), ('Jack', 'Bastoni'), ('6', 'Spade'), ('Ace', 'Spade'), ('3', 'Denari'), ('2', 'Spade'), ('7', 'Bastoni'), ('Horse', 'Denari')], 'taken2': [('7', 'Spade'), ('King', 'Spade'), ('King', 'Coppe'), ('Ace', 'Coppe'), ('3', 'Spade'), ('King', 'Denari'), ('2', 'Coppe'), ('Horse', 'Coppe'), ('4', 'Bastoni'), ('Ace', 'Bastoni'), ('4', 'Spade'), ('6', 'Bastoni'), ('Jack', 'Denari'), ('5', 'Coppe'), ('Horse', 'Spade'), ('7', 'Coppe')], 'briscola': ('6', 'Denari'), 'deck': [('Ace', 'Denari'), ('5', 'Bastoni'), ('6', 'Coppe'), ('Jack', 'Spade'), ('King', 'Bastoni')]}\n",
      "Player 2 plays:  ('Horse', 'Bastoni')\n",
      "The new state is:  {'hand1': [('Jack', 'Coppe'), ('4', 'Coppe'), ('7', 'Denari')], 'hand2': [('3', 'Bastoni'), ('3', 'Coppe')], 'table': [('Horse', 'Bastoni')], 'player': 1, 'taken1': [('5', 'Spade'), ('5', 'Denari'), ('2', 'Denari'), ('4', 'Denari'), ('2', 'Bastoni'), ('Jack', 'Bastoni'), ('6', 'Spade'), ('Ace', 'Spade'), ('3', 'Denari'), ('2', 'Spade'), ('7', 'Bastoni'), ('Horse', 'Denari')], 'taken2': [('7', 'Spade'), ('King', 'Spade'), ('King', 'Coppe'), ('Ace', 'Coppe'), ('3', 'Spade'), ('King', 'Denari'), ('2', 'Coppe'), ('Horse', 'Coppe'), ('4', 'Bastoni'), ('Ace', 'Bastoni'), ('4', 'Spade'), ('6', 'Bastoni'), ('Jack', 'Denari'), ('5', 'Coppe'), ('Horse', 'Spade'), ('7', 'Coppe')], 'briscola': ('6', 'Denari'), 'deck': [('Ace', 'Denari'), ('5', 'Bastoni'), ('6', 'Coppe'), ('Jack', 'Spade'), ('King', 'Bastoni')]}\n",
      "Player 1 plays:  ('7', 'Denari')\n",
      "The new state is:  {'hand1': [('Jack', 'Coppe'), ('4', 'Coppe'), ('5', 'Bastoni')], 'hand2': [('3', 'Bastoni'), ('3', 'Coppe'), ('Jack', 'Spade')], 'table': [], 'player': 1, 'taken1': [('5', 'Spade'), ('5', 'Denari'), ('2', 'Denari'), ('4', 'Denari'), ('2', 'Bastoni'), ('Jack', 'Bastoni'), ('6', 'Spade'), ('Ace', 'Spade'), ('3', 'Denari'), ('2', 'Spade'), ('7', 'Bastoni'), ('Horse', 'Denari'), ('Horse', 'Bastoni'), ('7', 'Denari')], 'taken2': [('7', 'Spade'), ('King', 'Spade'), ('King', 'Coppe'), ('Ace', 'Coppe'), ('3', 'Spade'), ('King', 'Denari'), ('2', 'Coppe'), ('Horse', 'Coppe'), ('4', 'Bastoni'), ('Ace', 'Bastoni'), ('4', 'Spade'), ('6', 'Bastoni'), ('Jack', 'Denari'), ('5', 'Coppe'), ('Horse', 'Spade'), ('7', 'Coppe')], 'briscola': ('6', 'Denari'), 'deck': [('Ace', 'Denari'), ('6', 'Coppe'), ('King', 'Bastoni')]}\n",
      "Player 1 plays:  ('Jack', 'Coppe')\n",
      "The new state is:  {'hand1': [('4', 'Coppe'), ('5', 'Bastoni')], 'hand2': [('3', 'Bastoni'), ('3', 'Coppe'), ('Jack', 'Spade')], 'table': [('Jack', 'Coppe')], 'player': 2, 'taken1': [('5', 'Spade'), ('5', 'Denari'), ('2', 'Denari'), ('4', 'Denari'), ('2', 'Bastoni'), ('Jack', 'Bastoni'), ('6', 'Spade'), ('Ace', 'Spade'), ('3', 'Denari'), ('2', 'Spade'), ('7', 'Bastoni'), ('Horse', 'Denari'), ('Horse', 'Bastoni'), ('7', 'Denari')], 'taken2': [('7', 'Spade'), ('King', 'Spade'), ('King', 'Coppe'), ('Ace', 'Coppe'), ('3', 'Spade'), ('King', 'Denari'), ('2', 'Coppe'), ('Horse', 'Coppe'), ('4', 'Bastoni'), ('Ace', 'Bastoni'), ('4', 'Spade'), ('6', 'Bastoni'), ('Jack', 'Denari'), ('5', 'Coppe'), ('Horse', 'Spade'), ('7', 'Coppe')], 'briscola': ('6', 'Denari'), 'deck': [('Ace', 'Denari'), ('6', 'Coppe'), ('King', 'Bastoni')]}\n",
      "Player 2 plays:  ('3', 'Coppe')\n",
      "The new state is:  {'hand1': [('4', 'Coppe'), ('5', 'Bastoni'), ('Ace', 'Denari')], 'hand2': [('3', 'Bastoni'), ('Jack', 'Spade'), ('King', 'Bastoni')], 'table': [], 'player': 2, 'taken1': [('5', 'Spade'), ('5', 'Denari'), ('2', 'Denari'), ('4', 'Denari'), ('2', 'Bastoni'), ('Jack', 'Bastoni'), ('6', 'Spade'), ('Ace', 'Spade'), ('3', 'Denari'), ('2', 'Spade'), ('7', 'Bastoni'), ('Horse', 'Denari'), ('Horse', 'Bastoni'), ('7', 'Denari')], 'taken2': [('7', 'Spade'), ('King', 'Spade'), ('King', 'Coppe'), ('Ace', 'Coppe'), ('3', 'Spade'), ('King', 'Denari'), ('2', 'Coppe'), ('Horse', 'Coppe'), ('4', 'Bastoni'), ('Ace', 'Bastoni'), ('4', 'Spade'), ('6', 'Bastoni'), ('Jack', 'Denari'), ('5', 'Coppe'), ('Horse', 'Spade'), ('7', 'Coppe'), ('Jack', 'Coppe'), ('3', 'Coppe')], 'briscola': ('6', 'Denari'), 'deck': [('6', 'Coppe')]}\n",
      "Player 2 plays:  ('Jack', 'Spade')\n",
      "The new state is:  {'hand1': [('4', 'Coppe'), ('5', 'Bastoni'), ('Ace', 'Denari')], 'hand2': [('3', 'Bastoni'), ('King', 'Bastoni')], 'table': [('Jack', 'Spade')], 'player': 1, 'taken1': [('5', 'Spade'), ('5', 'Denari'), ('2', 'Denari'), ('4', 'Denari'), ('2', 'Bastoni'), ('Jack', 'Bastoni'), ('6', 'Spade'), ('Ace', 'Spade'), ('3', 'Denari'), ('2', 'Spade'), ('7', 'Bastoni'), ('Horse', 'Denari'), ('Horse', 'Bastoni'), ('7', 'Denari')], 'taken2': [('7', 'Spade'), ('King', 'Spade'), ('King', 'Coppe'), ('Ace', 'Coppe'), ('3', 'Spade'), ('King', 'Denari'), ('2', 'Coppe'), ('Horse', 'Coppe'), ('4', 'Bastoni'), ('Ace', 'Bastoni'), ('4', 'Spade'), ('6', 'Bastoni'), ('Jack', 'Denari'), ('5', 'Coppe'), ('Horse', 'Spade'), ('7', 'Coppe'), ('Jack', 'Coppe'), ('3', 'Coppe')], 'briscola': ('6', 'Denari'), 'deck': [('6', 'Coppe')]}\n",
      "Player 1 plays:  ('5', 'Bastoni')\n",
      "The new state is:  {'hand1': [('4', 'Coppe'), ('Ace', 'Denari'), ('6', 'Coppe')], 'hand2': [('3', 'Bastoni'), ('King', 'Bastoni'), ('6', 'Denari')], 'table': [], 'player': 2, 'taken1': [('5', 'Spade'), ('5', 'Denari'), ('2', 'Denari'), ('4', 'Denari'), ('2', 'Bastoni'), ('Jack', 'Bastoni'), ('6', 'Spade'), ('Ace', 'Spade'), ('3', 'Denari'), ('2', 'Spade'), ('7', 'Bastoni'), ('Horse', 'Denari'), ('Horse', 'Bastoni'), ('7', 'Denari')], 'taken2': [('7', 'Spade'), ('King', 'Spade'), ('King', 'Coppe'), ('Ace', 'Coppe'), ('3', 'Spade'), ('King', 'Denari'), ('2', 'Coppe'), ('Horse', 'Coppe'), ('4', 'Bastoni'), ('Ace', 'Bastoni'), ('4', 'Spade'), ('6', 'Bastoni'), ('Jack', 'Denari'), ('5', 'Coppe'), ('Horse', 'Spade'), ('7', 'Coppe'), ('Jack', 'Coppe'), ('3', 'Coppe'), ('Jack', 'Spade'), ('5', 'Bastoni')], 'briscola': ('6', 'Denari'), 'deck': []}\n",
      "Player 2 plays:  ('6', 'Denari')\n",
      "The new state is:  {'hand1': [('4', 'Coppe'), ('Ace', 'Denari'), ('6', 'Coppe')], 'hand2': [('3', 'Bastoni'), ('King', 'Bastoni')], 'table': [('6', 'Denari')], 'player': 1, 'taken1': [('5', 'Spade'), ('5', 'Denari'), ('2', 'Denari'), ('4', 'Denari'), ('2', 'Bastoni'), ('Jack', 'Bastoni'), ('6', 'Spade'), ('Ace', 'Spade'), ('3', 'Denari'), ('2', 'Spade'), ('7', 'Bastoni'), ('Horse', 'Denari'), ('Horse', 'Bastoni'), ('7', 'Denari')], 'taken2': [('7', 'Spade'), ('King', 'Spade'), ('King', 'Coppe'), ('Ace', 'Coppe'), ('3', 'Spade'), ('King', 'Denari'), ('2', 'Coppe'), ('Horse', 'Coppe'), ('4', 'Bastoni'), ('Ace', 'Bastoni'), ('4', 'Spade'), ('6', 'Bastoni'), ('Jack', 'Denari'), ('5', 'Coppe'), ('Horse', 'Spade'), ('7', 'Coppe'), ('Jack', 'Coppe'), ('3', 'Coppe'), ('Jack', 'Spade'), ('5', 'Bastoni')], 'briscola': ('6', 'Denari'), 'deck': []}\n",
      "ERROR: total number of cards is not 40\n",
      "Player 1 plays:  ('4', 'Coppe')\n",
      "The new state is:  {'hand1': [('Ace', 'Denari'), ('6', 'Coppe')], 'hand2': [('3', 'Bastoni'), ('King', 'Bastoni')], 'table': [], 'player': 2, 'taken1': [('5', 'Spade'), ('5', 'Denari'), ('2', 'Denari'), ('4', 'Denari'), ('2', 'Bastoni'), ('Jack', 'Bastoni'), ('6', 'Spade'), ('Ace', 'Spade'), ('3', 'Denari'), ('2', 'Spade'), ('7', 'Bastoni'), ('Horse', 'Denari'), ('Horse', 'Bastoni'), ('7', 'Denari')], 'taken2': [('7', 'Spade'), ('King', 'Spade'), ('King', 'Coppe'), ('Ace', 'Coppe'), ('3', 'Spade'), ('King', 'Denari'), ('2', 'Coppe'), ('Horse', 'Coppe'), ('4', 'Bastoni'), ('Ace', 'Bastoni'), ('4', 'Spade'), ('6', 'Bastoni'), ('Jack', 'Denari'), ('5', 'Coppe'), ('Horse', 'Spade'), ('7', 'Coppe'), ('Jack', 'Coppe'), ('3', 'Coppe'), ('Jack', 'Spade'), ('5', 'Bastoni'), ('6', 'Denari'), ('4', 'Coppe')], 'briscola': ('6', 'Denari'), 'deck': []}\n",
      "Player 2 plays:  ('King', 'Bastoni')\n",
      "The new state is:  {'hand1': [('Ace', 'Denari'), ('6', 'Coppe')], 'hand2': [('3', 'Bastoni')], 'table': [('King', 'Bastoni')], 'player': 1, 'taken1': [('5', 'Spade'), ('5', 'Denari'), ('2', 'Denari'), ('4', 'Denari'), ('2', 'Bastoni'), ('Jack', 'Bastoni'), ('6', 'Spade'), ('Ace', 'Spade'), ('3', 'Denari'), ('2', 'Spade'), ('7', 'Bastoni'), ('Horse', 'Denari'), ('Horse', 'Bastoni'), ('7', 'Denari')], 'taken2': [('7', 'Spade'), ('King', 'Spade'), ('King', 'Coppe'), ('Ace', 'Coppe'), ('3', 'Spade'), ('King', 'Denari'), ('2', 'Coppe'), ('Horse', 'Coppe'), ('4', 'Bastoni'), ('Ace', 'Bastoni'), ('4', 'Spade'), ('6', 'Bastoni'), ('Jack', 'Denari'), ('5', 'Coppe'), ('Horse', 'Spade'), ('7', 'Coppe'), ('Jack', 'Coppe'), ('3', 'Coppe'), ('Jack', 'Spade'), ('5', 'Bastoni'), ('6', 'Denari'), ('4', 'Coppe')], 'briscola': ('6', 'Denari'), 'deck': []}\n",
      "ERROR: total number of cards is not 40\n",
      "Player 1 plays:  ('Ace', 'Denari')\n",
      "The new state is:  {'hand1': [('6', 'Coppe')], 'hand2': [('3', 'Bastoni')], 'table': [], 'player': 1, 'taken1': [('5', 'Spade'), ('5', 'Denari'), ('2', 'Denari'), ('4', 'Denari'), ('2', 'Bastoni'), ('Jack', 'Bastoni'), ('6', 'Spade'), ('Ace', 'Spade'), ('3', 'Denari'), ('2', 'Spade'), ('7', 'Bastoni'), ('Horse', 'Denari'), ('Horse', 'Bastoni'), ('7', 'Denari'), ('King', 'Bastoni'), ('Ace', 'Denari')], 'taken2': [('7', 'Spade'), ('King', 'Spade'), ('King', 'Coppe'), ('Ace', 'Coppe'), ('3', 'Spade'), ('King', 'Denari'), ('2', 'Coppe'), ('Horse', 'Coppe'), ('4', 'Bastoni'), ('Ace', 'Bastoni'), ('4', 'Spade'), ('6', 'Bastoni'), ('Jack', 'Denari'), ('5', 'Coppe'), ('Horse', 'Spade'), ('7', 'Coppe'), ('Jack', 'Coppe'), ('3', 'Coppe'), ('Jack', 'Spade'), ('5', 'Bastoni'), ('6', 'Denari'), ('4', 'Coppe')], 'briscola': ('6', 'Denari'), 'deck': []}\n",
      "ERROR: total number of cards is not 40\n",
      "Player 1 plays:  ('6', 'Coppe')\n",
      "The new state is:  {'hand1': [], 'hand2': [('3', 'Bastoni')], 'table': [('6', 'Coppe')], 'player': 2, 'taken1': [('5', 'Spade'), ('5', 'Denari'), ('2', 'Denari'), ('4', 'Denari'), ('2', 'Bastoni'), ('Jack', 'Bastoni'), ('6', 'Spade'), ('Ace', 'Spade'), ('3', 'Denari'), ('2', 'Spade'), ('7', 'Bastoni'), ('Horse', 'Denari'), ('Horse', 'Bastoni'), ('7', 'Denari'), ('King', 'Bastoni'), ('Ace', 'Denari')], 'taken2': [('7', 'Spade'), ('King', 'Spade'), ('King', 'Coppe'), ('Ace', 'Coppe'), ('3', 'Spade'), ('King', 'Denari'), ('2', 'Coppe'), ('Horse', 'Coppe'), ('4', 'Bastoni'), ('Ace', 'Bastoni'), ('4', 'Spade'), ('6', 'Bastoni'), ('Jack', 'Denari'), ('5', 'Coppe'), ('Horse', 'Spade'), ('7', 'Coppe'), ('Jack', 'Coppe'), ('3', 'Coppe'), ('Jack', 'Spade'), ('5', 'Bastoni'), ('6', 'Denari'), ('4', 'Coppe')], 'briscola': ('6', 'Denari'), 'deck': []}\n",
      "Player 2 plays:  ('3', 'Bastoni')\n",
      "The new state is:  {'hand1': [], 'hand2': [], 'table': [], 'player': 1, 'taken1': [('5', 'Spade'), ('5', 'Denari'), ('2', 'Denari'), ('4', 'Denari'), ('2', 'Bastoni'), ('Jack', 'Bastoni'), ('6', 'Spade'), ('Ace', 'Spade'), ('3', 'Denari'), ('2', 'Spade'), ('7', 'Bastoni'), ('Horse', 'Denari'), ('Horse', 'Bastoni'), ('7', 'Denari'), ('King', 'Bastoni'), ('Ace', 'Denari'), ('6', 'Coppe'), ('3', 'Bastoni')], 'taken2': [('7', 'Spade'), ('King', 'Spade'), ('King', 'Coppe'), ('Ace', 'Coppe'), ('3', 'Spade'), ('King', 'Denari'), ('2', 'Coppe'), ('Horse', 'Coppe'), ('4', 'Bastoni'), ('Ace', 'Bastoni'), ('4', 'Spade'), ('6', 'Bastoni'), ('Jack', 'Denari'), ('5', 'Coppe'), ('Horse', 'Spade'), ('7', 'Coppe'), ('Jack', 'Coppe'), ('3', 'Coppe'), ('Jack', 'Spade'), ('5', 'Bastoni'), ('6', 'Denari'), ('4', 'Coppe')], 'briscola': ('6', 'Denari'), 'deck': []}\n",
      "Game over\n",
      "Final state:  {'hand1': [], 'hand2': [], 'table': [], 'player': 1, 'taken1': [('5', 'Spade'), ('5', 'Denari'), ('2', 'Denari'), ('4', 'Denari'), ('2', 'Bastoni'), ('Jack', 'Bastoni'), ('6', 'Spade'), ('Ace', 'Spade'), ('3', 'Denari'), ('2', 'Spade'), ('7', 'Bastoni'), ('Horse', 'Denari'), ('Horse', 'Bastoni'), ('7', 'Denari'), ('King', 'Bastoni'), ('Ace', 'Denari'), ('6', 'Coppe'), ('3', 'Bastoni')], 'taken2': [('7', 'Spade'), ('King', 'Spade'), ('King', 'Coppe'), ('Ace', 'Coppe'), ('3', 'Spade'), ('King', 'Denari'), ('2', 'Coppe'), ('Horse', 'Coppe'), ('4', 'Bastoni'), ('Ace', 'Bastoni'), ('4', 'Spade'), ('6', 'Bastoni'), ('Jack', 'Denari'), ('5', 'Coppe'), ('Horse', 'Spade'), ('7', 'Coppe'), ('Jack', 'Coppe'), ('3', 'Coppe'), ('Jack', 'Spade'), ('5', 'Bastoni'), ('6', 'Denari'), ('4', 'Coppe')], 'briscola': ('6', 'Denari'), 'deck': []}\n",
      "Player 1 score:  54.004599999999996\n",
      "Player 2 score:  66.00500000000001\n"
     ]
    }
   ],
   "source": [
    "# code to play an automated game given players\n",
    "my_game = Briscola()\n",
    "player_1 = mcts_player\n",
    "player_2 = smart_player\n",
    "\n",
    "my_game.play_game(player_1, player_2)"
   ]
  },
  {
   "cell_type": "code",
   "execution_count": 3,
   "metadata": {},
   "outputs": [
    {
     "name": "stdout",
     "output_type": "stream",
     "text": [
      "Initial state:  {'hand1': [('Horse', 'Coppe'), ('Ace', 'Coppe'), ('3', 'Denari')], 'hand2': [('Ace', 'Bastoni'), ('Ace', 'Denari'), ('2', 'Bastoni'), ('2', 'Denari'), ('2', 'Spade'), ('2', 'Coppe'), ('3', 'Bastoni'), ('3', 'Spade'), ('3', 'Coppe'), ('4', 'Bastoni'), ('4', 'Denari'), ('4', 'Spade'), ('4', 'Coppe'), ('5', 'Bastoni'), ('5', 'Denari'), ('5', 'Spade'), ('5', 'Coppe'), ('6', 'Bastoni'), ('6', 'Denari'), ('6', 'Spade'), ('6', 'Coppe'), ('7', 'Bastoni'), ('7', 'Denari'), ('7', 'Spade'), ('7', 'Coppe'), ('Jack', 'Bastoni'), ('Jack', 'Denari'), ('Jack', 'Spade'), ('Jack', 'Coppe'), ('Horse', 'Bastoni'), ('Horse', 'Denari'), ('Horse', 'Spade'), ('King', 'Bastoni'), ('King', 'Denari'), ('King', 'Spade'), ('King', 'Coppe')], 'table': [], 'player': 2, 'taken1': [], 'taken2': [], 'briscola': ('Ace', 'Spade'), 'deck': [('Ace', 'Bastoni'), ('Ace', 'Denari'), ('2', 'Bastoni'), ('2', 'Denari'), ('2', 'Spade'), ('2', 'Coppe'), ('3', 'Bastoni'), ('3', 'Spade'), ('3', 'Coppe'), ('4', 'Bastoni'), ('4', 'Denari'), ('4', 'Spade'), ('4', 'Coppe'), ('5', 'Bastoni'), ('5', 'Denari'), ('5', 'Spade'), ('5', 'Coppe'), ('6', 'Bastoni'), ('6', 'Denari'), ('6', 'Spade'), ('6', 'Coppe'), ('7', 'Bastoni'), ('7', 'Denari'), ('7', 'Spade'), ('7', 'Coppe'), ('Jack', 'Bastoni'), ('Jack', 'Denari'), ('Jack', 'Spade'), ('Jack', 'Coppe'), ('Horse', 'Bastoni'), ('Horse', 'Denari'), ('Horse', 'Spade'), ('King', 'Bastoni'), ('King', 'Denari'), ('King', 'Spade'), ('King', 'Coppe')]}\n",
      "GAME START\n",
      "The first to play is:  2\n",
      "Your hand:  [('Ace', 'Bastoni'), ('Ace', 'Denari'), ('2', 'Bastoni'), ('2', 'Denari'), ('2', 'Spade'), ('2', 'Coppe'), ('3', 'Bastoni'), ('3', 'Spade'), ('3', 'Coppe'), ('4', 'Bastoni'), ('4', 'Denari'), ('4', 'Spade'), ('4', 'Coppe'), ('5', 'Bastoni'), ('5', 'Denari'), ('5', 'Spade'), ('5', 'Coppe'), ('6', 'Bastoni'), ('6', 'Denari'), ('6', 'Spade'), ('6', 'Coppe'), ('7', 'Bastoni'), ('7', 'Denari'), ('7', 'Spade'), ('7', 'Coppe'), ('Jack', 'Bastoni'), ('Jack', 'Denari'), ('Jack', 'Spade'), ('Jack', 'Coppe'), ('Horse', 'Bastoni'), ('Horse', 'Denari'), ('Horse', 'Spade'), ('King', 'Bastoni'), ('King', 'Denari'), ('King', 'Spade'), ('King', 'Coppe')]\n",
      "I play:  ('Horse', 'Coppe')\n",
      "The card on the table are:  [('Ace', 'Bastoni'), ('Horse', 'Coppe')]\n",
      "The winner is:  2\n",
      "Your hand:  [('Ace', 'Denari'), ('2', 'Bastoni'), ('2', 'Spade'), ('2', 'Coppe'), ('3', 'Bastoni'), ('3', 'Spade'), ('3', 'Coppe'), ('4', 'Bastoni'), ('4', 'Denari'), ('4', 'Spade'), ('4', 'Coppe'), ('5', 'Bastoni'), ('5', 'Denari'), ('5', 'Spade'), ('5', 'Coppe'), ('6', 'Bastoni'), ('6', 'Denari'), ('6', 'Spade'), ('6', 'Coppe'), ('7', 'Bastoni'), ('7', 'Denari'), ('7', 'Spade'), ('7', 'Coppe'), ('Jack', 'Bastoni'), ('Jack', 'Denari'), ('Jack', 'Spade'), ('Jack', 'Coppe'), ('Horse', 'Bastoni'), ('Horse', 'Denari'), ('Horse', 'Spade'), ('King', 'Bastoni'), ('King', 'Denari'), ('King', 'Spade'), ('King', 'Coppe')]\n",
      "I play:  ('2', 'Denari')\n",
      "The card on the table are:  [('2', 'Spade'), ('2', 'Denari')]\n",
      "The winner is:  2\n",
      "Your hand:  [('Ace', 'Denari'), ('2', 'Bastoni'), ('2', 'Coppe'), ('3', 'Bastoni'), ('3', 'Spade'), ('4', 'Bastoni'), ('4', 'Denari'), ('4', 'Spade'), ('4', 'Coppe'), ('5', 'Bastoni'), ('5', 'Denari'), ('5', 'Spade'), ('5', 'Coppe'), ('6', 'Bastoni'), ('6', 'Denari'), ('6', 'Spade'), ('6', 'Coppe'), ('7', 'Bastoni'), ('7', 'Denari'), ('7', 'Spade'), ('7', 'Coppe'), ('Jack', 'Bastoni'), ('Jack', 'Denari'), ('Jack', 'Spade'), ('Jack', 'Coppe'), ('Horse', 'Bastoni'), ('Horse', 'Denari'), ('Horse', 'Spade'), ('King', 'Bastoni'), ('King', 'Denari'), ('King', 'Spade'), ('King', 'Coppe')]\n",
      "I play:  ('3', 'Coppe')\n"
     ]
    }
   ],
   "source": [
    "# Play a real-life game\n",
    "full_deck = [(i, suit) for i in ['Ace', '2', '3', '4', '5', '6', '7', 'Jack', 'Horse', 'King'] for suit in ['Bastoni', 'Denari', 'Spade', 'Coppe']]\n",
    "\n",
    "# ask what my hand is\n",
    "while True:\n",
    "    computer_hand = input(\"What cards are in my hand? (separate with commas) \")\n",
    "    computer_hand = eval(computer_hand)\n",
    "    if type(computer_hand) != list:\n",
    "        print(\"The hand needs to be a list, try again.\")\n",
    "    elif len(computer_hand) != 3:\n",
    "        print(\"The hand needs to be three cards, try again.\")\n",
    "    else:\n",
    "        card_check = 0\n",
    "        for card in computer_hand:\n",
    "            if card not in full_deck:\n",
    "                print(\"The card is not in the deck: \", card)\n",
    "                break\n",
    "            else:\n",
    "                card_check = card_check + 1\n",
    "        if card_check == 3:\n",
    "            break\n",
    "                \n",
    "# ask what the briscola is\n",
    "while True:\n",
    "    briscola = input(\"What is the briscola?\")\n",
    "    briscola = eval(briscola)\n",
    "    if type(briscola) != tuple:\n",
    "        print(\"The briscola needs to be a tuple, try again.\")\n",
    "    else:\n",
    "        if card not in full_deck:\n",
    "            print(\"The card is not in the deck: \", card)\n",
    "        else:\n",
    "            break\n",
    "\n",
    "# ask who starts\n",
    "while True:\n",
    "    player = input(\"Who starts? (1 for me, 2 for you) \")\n",
    "    player = int(player)\n",
    "    if player not in [1, 2]:\n",
    "        print(\"The player needs to be 1 or 2, try again.\")\n",
    "    else:\n",
    "        break\n",
    "\n",
    "# remove my hand and the briscola from the deck\n",
    "deck = deepcopy(full_deck)\n",
    "for card in computer_hand:\n",
    "    deck.remove(card)\n",
    "deck.remove(briscola)\n",
    "\n",
    "# create the initial state\n",
    "initial_state = {'hand1': computer_hand, 'hand2': deck, 'table': [], 'player': player, 'taken1': [], 'taken2': [], 'briscola': briscola, 'deck': deck}\n",
    "print(\"Initial state: \", initial_state)\n",
    "my_game = Briscola()\n",
    "\n",
    "# play the game\n",
    "my_game.play_real_game(initial_state, my_mcts_player, human_player_2)"
   ]
  },
  {
   "cell_type": "code",
   "execution_count": 7,
   "metadata": {},
   "outputs": [
    {
     "name": "stdout",
     "output_type": "stream",
     "text": [
      "[('Horse', 'Coppe'), ('Ace', 'Coppe'), ('3', 'Denari')]\n"
     ]
    },
    {
     "data": {
      "text/plain": [
       "list"
      ]
     },
     "execution_count": 7,
     "metadata": {},
     "output_type": "execute_result"
    }
   ],
   "source": [
    "# turn to a list of three tuples\n",
    "# [('Horse', 'Coppe'), ('Ace', 'Coppe'), ('3', 'Denari')]\n",
    "# ('Ace', 'Spade')\n",
    "f = input(\"What is the list of cards? \")\n",
    "f_list = eval(f)\n",
    "\n",
    "print(f_list)\n",
    "type(f_list)"
   ]
  },
  {
   "cell_type": "markdown",
   "metadata": {},
   "source": [
    "NOTES"
   ]
  },
  {
   "cell_type": "code",
   "execution_count": 1,
   "metadata": {},
   "outputs": [
    {
     "name": "stdout",
     "output_type": "stream",
     "text": [
      "{'hand1': [('3', 'Bastoni'), ('6', 'Spade'), ('5', 'Spade')], 'hand2': [('King', 'Denari'), ('7', 'Denari'), ('King', 'Coppe')], 'table': [], 'player': 1, 'taken1': [], 'taken2': [], 'briscola': ('7', 'Bastoni'), 'deck': [('Ace', 'Bastoni'), ('Ace', 'Denari'), ('Ace', 'Spade'), ('Ace', 'Coppe'), ('2', 'Bastoni'), ('2', 'Denari'), ('2', 'Spade'), ('2', 'Coppe'), ('3', 'Denari'), ('3', 'Spade'), ('3', 'Coppe'), ('4', 'Bastoni'), ('4', 'Denari'), ('4', 'Spade'), ('4', 'Coppe'), ('5', 'Bastoni'), ('5', 'Denari'), ('5', 'Coppe'), ('6', 'Bastoni'), ('6', 'Denari'), ('6', 'Coppe'), ('7', 'Spade'), ('7', 'Coppe'), ('Jack', 'Bastoni'), ('Jack', 'Denari'), ('Jack', 'Spade'), ('Jack', 'Coppe'), ('Horse', 'Bastoni'), ('Horse', 'Denari'), ('Horse', 'Spade'), ('Horse', 'Coppe'), ('King', 'Bastoni'), ('King', 'Spade')]}\n"
     ]
    }
   ],
   "source": [
    "import random\n",
    "# a sample briscola state\n",
    "full_deck = [(i, suit) for i in ['Ace', '2', '3', '4', '5', '6', '7', 'Jack', 'Horse', 'King'] for suit in ['Bastoni', 'Denari', 'Spade', 'Coppe']]\n",
    "\n",
    "# the initial state is a random trump, random hands and a random player to move\n",
    "my_sample = random.sample(full_deck, 7)\n",
    "hand1, hand2, trump = my_sample[:3], my_sample[3:6], [my_sample[6]]\n",
    "# delete the cards from the deck\n",
    "deck = full_deck\n",
    "for card in my_sample:\n",
    "    deck.remove(card)\n",
    "\n",
    "trump = trump[0]\n",
    "some_state = {'hand1': hand1, 'hand2': hand2, 'table': [], 'player': 1, 'taken1': [], 'taken2': [], 'briscola': trump, 'deck': deck}   \n",
    "print(some_state)"
   ]
  },
  {
   "cell_type": "code",
   "execution_count": 2,
   "metadata": {},
   "outputs": [
    {
     "data": {
      "text/plain": [
       "('5', 'Spade')"
      ]
     },
     "execution_count": 2,
     "metadata": {},
     "output_type": "execute_result"
    }
   ],
   "source": [
    "from tools import my_monte_carlo_tree_search\n",
    "from briscola_game import Briscola\n",
    "from players import MyMonteCarloTreeSearchPlayer\n",
    "game = Briscola()  \n",
    "check_player = MyMonteCarloTreeSearchPlayer()\n",
    "check_player.generate_move(some_state, game)"
   ]
  },
  {
   "cell_type": "code",
   "execution_count": 2,
   "metadata": {},
   "outputs": [
    {
     "name": "stdout",
     "output_type": "stream",
     "text": [
      "State:  {'hand1': [('2', 'Denari'), ('4', 'Bastoni'), ('4', 'Spade')], 'hand2': [('5', 'Bastoni'), ('4', 'Coppe'), ('Ace', 'Spade')], 'table': [], 'player': 2, 'taken1': [], 'taken2': [], 'briscola': ('6', 'Spade'), 'deck': [('Ace', 'Bastoni'), ('Ace', 'Denari'), ('Ace', 'Coppe'), ('2', 'Bastoni'), ('2', 'Spade'), ('2', 'Coppe'), ('3', 'Bastoni'), ('3', 'Denari'), ('3', 'Coppe'), ('4', 'Denari'), ('5', 'Denari'), ('5', 'Coppe'), ('6', 'Bastoni'), ('6', 'Denari'), ('6', 'Coppe'), ('7', 'Bastoni'), ('7', 'Denari'), ('7', 'Spade'), ('7', 'Coppe'), ('Jack', 'Bastoni'), ('Jack', 'Denari'), ('Jack', 'Spade'), ('Jack', 'Coppe'), ('Horse', 'Bastoni'), ('Horse', 'Denari'), ('Horse', 'Spade'), ('King', 'Bastoni'), ('King', 'Denari'), ('King', 'Spade'), ('King', 'Coppe')]}\n",
      "Move:  ('Horse', 'Coppe')\n"
     ]
    },
    {
     "ename": "ValueError",
     "evalue": "list.remove(x): x not in list",
     "output_type": "error",
     "traceback": [
      "\u001b[1;31m---------------------------------------------------------------------------\u001b[0m",
      "\u001b[1;31mValueError\u001b[0m                                Traceback (most recent call last)",
      "\u001b[1;32m~\\AppData\\Local\\Temp/ipykernel_21792/3506437924.py\u001b[0m in \u001b[0;36m<module>\u001b[1;34m\u001b[0m\n\u001b[0;32m      2\u001b[0m \u001b[1;32mfrom\u001b[0m \u001b[0mbriscola_game\u001b[0m \u001b[1;32mimport\u001b[0m \u001b[0mBriscola\u001b[0m\u001b[1;33m\u001b[0m\u001b[1;33m\u001b[0m\u001b[0m\n\u001b[0;32m      3\u001b[0m \u001b[0mgame\u001b[0m \u001b[1;33m=\u001b[0m \u001b[0mBriscola\u001b[0m\u001b[1;33m(\u001b[0m\u001b[1;33m)\u001b[0m\u001b[1;33m\u001b[0m\u001b[1;33m\u001b[0m\u001b[0m\n\u001b[1;32m----> 4\u001b[1;33m \u001b[0mmy_monte_carlo_tree_search\u001b[0m\u001b[1;33m(\u001b[0m\u001b[0msome_state\u001b[0m\u001b[1;33m,\u001b[0m \u001b[0mgame\u001b[0m\u001b[1;33m,\u001b[0m \u001b[1;36m1000\u001b[0m\u001b[1;33m)\u001b[0m\u001b[1;33m\u001b[0m\u001b[1;33m\u001b[0m\u001b[0m\n\u001b[0m",
      "\u001b[1;32mc:\\Users\\jakub\\OneDrive\\Dokumenty\\Github-repos\\briscola-mcts\\tools.py\u001b[0m in \u001b[0;36mmy_monte_carlo_tree_search\u001b[1;34m(state, game, n_sim)\u001b[0m\n\u001b[0;32m    123\u001b[0m             \u001b[0mprint\u001b[0m\u001b[1;33m(\u001b[0m\u001b[1;34m\"Move: \"\u001b[0m\u001b[1;33m,\u001b[0m \u001b[0mmove\u001b[0m\u001b[1;33m)\u001b[0m\u001b[1;33m\u001b[0m\u001b[1;33m\u001b[0m\u001b[0m\n\u001b[0;32m    124\u001b[0m             \u001b[1;31m# Play the move\u001b[0m\u001b[1;33m\u001b[0m\u001b[1;33m\u001b[0m\u001b[0m\n\u001b[1;32m--> 125\u001b[1;33m             \u001b[0mstate_copy\u001b[0m \u001b[1;33m=\u001b[0m \u001b[0mgame\u001b[0m\u001b[1;33m.\u001b[0m\u001b[0mresult\u001b[0m\u001b[1;33m(\u001b[0m\u001b[0mstate_copy\u001b[0m\u001b[1;33m,\u001b[0m \u001b[0mmove\u001b[0m\u001b[1;33m)\u001b[0m\u001b[1;33m\u001b[0m\u001b[1;33m\u001b[0m\u001b[0m\n\u001b[0m\u001b[0;32m    126\u001b[0m \u001b[1;33m\u001b[0m\u001b[0m\n\u001b[0;32m    127\u001b[0m             \u001b[0mprint\u001b[0m\u001b[1;33m(\u001b[0m\u001b[1;34m\"State to simulaiton: \"\u001b[0m\u001b[1;33m,\u001b[0m \u001b[0mstate_copy\u001b[0m\u001b[1;33m)\u001b[0m\u001b[1;33m\u001b[0m\u001b[1;33m\u001b[0m\u001b[0m\n",
      "\u001b[1;32mc:\\Users\\jakub\\OneDrive\\Dokumenty\\Github-repos\\briscola-mcts\\briscola_game.py\u001b[0m in \u001b[0;36mresult\u001b[1;34m(self, state, move)\u001b[0m\n\u001b[0;32m     45\u001b[0m         \u001b[1;31m# the card is removed from the hand of the player to move\u001b[0m\u001b[1;33m\u001b[0m\u001b[1;33m\u001b[0m\u001b[0m\n\u001b[0;32m     46\u001b[0m         \u001b[0mnew_state\u001b[0m \u001b[1;33m=\u001b[0m \u001b[0mdeepcopy\u001b[0m\u001b[1;33m(\u001b[0m\u001b[0mstate\u001b[0m\u001b[1;33m)\u001b[0m\u001b[1;33m\u001b[0m\u001b[1;33m\u001b[0m\u001b[0m\n\u001b[1;32m---> 47\u001b[1;33m         \u001b[0mnew_state\u001b[0m\u001b[1;33m[\u001b[0m\u001b[1;34m'hand'\u001b[0m \u001b[1;33m+\u001b[0m \u001b[0mstr\u001b[0m\u001b[1;33m(\u001b[0m\u001b[0mnew_state\u001b[0m\u001b[1;33m[\u001b[0m\u001b[1;34m'player'\u001b[0m\u001b[1;33m]\u001b[0m\u001b[1;33m)\u001b[0m\u001b[1;33m]\u001b[0m\u001b[1;33m.\u001b[0m\u001b[0mremove\u001b[0m\u001b[1;33m(\u001b[0m\u001b[0mmove\u001b[0m\u001b[1;33m)\u001b[0m\u001b[1;33m\u001b[0m\u001b[1;33m\u001b[0m\u001b[0m\n\u001b[0m\u001b[0;32m     48\u001b[0m \u001b[1;33m\u001b[0m\u001b[0m\n\u001b[0;32m     49\u001b[0m         \u001b[1;31m# the card is added to the table\u001b[0m\u001b[1;33m\u001b[0m\u001b[1;33m\u001b[0m\u001b[0m\n",
      "\u001b[1;31mValueError\u001b[0m: list.remove(x): x not in list"
     ]
    }
   ],
   "source": [
    "from tools import my_monte_carlo_tree_search\n",
    "from briscola_game import Briscola\n",
    "game = Briscola()   \n",
    "my_monte_carlo_tree_search(some_state, game, 1000)"
   ]
  }
 ],
 "metadata": {
  "kernelspec": {
   "display_name": "base",
   "language": "python",
   "name": "python3"
  },
  "language_info": {
   "codemirror_mode": {
    "name": "ipython",
    "version": 3
   },
   "file_extension": ".py",
   "mimetype": "text/x-python",
   "name": "python",
   "nbconvert_exporter": "python",
   "pygments_lexer": "ipython3",
   "version": "3.9.7"
  }
 },
 "nbformat": 4,
 "nbformat_minor": 2
}
