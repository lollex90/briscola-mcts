{
 "cells": [
  {
   "cell_type": "code",
   "execution_count": 1,
   "metadata": {},
   "outputs": [],
   "source": [
    "import random\n",
    "from briscola_game import Briscola\n",
    "from players import RandomPlayer, HumanPlayer, SmartPlayer, MonteCarloTreeSearchPlayer\n",
    "from tools import get_card_value, compare_cards, draw_cards\n",
    "\n",
    "my_game = Briscola()\n",
    "random_player_1 = RandomPlayer()\n",
    "random_player_2 = RandomPlayer()\n",
    "human_player_1 = HumanPlayer(1)\n",
    "smart_player_1 = SmartPlayer(1)  \n",
    "smart_player_2 = SmartPlayer(2)\n",
    "mcts_player_1 = MonteCarloTreeSearchPlayer()"
   ]
  },
  {
   "cell_type": "code",
   "execution_count": 2,
   "metadata": {},
   "outputs": [
    {
     "name": "stdout",
     "output_type": "stream",
     "text": [
      "{'hand1': [('Jack', 'Coppe'), ('5', 'Denari'), ('3', 'Coppe')], 'hand2': [('King', 'Bastoni'), ('6', 'Spade'), ('Ace', 'Spade')], 'table': [], 'player': 2, 'taken1': [], 'taken2': [], 'briscola': ('4', 'Denari'), 'deck': [('Ace', 'Bastoni'), ('Ace', 'Denari'), ('Ace', 'Coppe'), ('2', 'Bastoni'), ('2', 'Denari'), ('2', 'Spade'), ('2', 'Coppe'), ('3', 'Bastoni'), ('3', 'Denari'), ('3', 'Spade'), ('4', 'Bastoni'), ('4', 'Spade'), ('4', 'Coppe'), ('5', 'Bastoni'), ('5', 'Spade'), ('5', 'Coppe'), ('6', 'Bastoni'), ('6', 'Denari'), ('6', 'Coppe'), ('7', 'Bastoni'), ('7', 'Denari'), ('7', 'Spade'), ('7', 'Coppe'), ('Jack', 'Bastoni'), ('Jack', 'Denari'), ('Jack', 'Spade'), ('Horse', 'Bastoni'), ('Horse', 'Denari'), ('Horse', 'Spade'), ('Horse', 'Coppe'), ('King', 'Denari'), ('King', 'Spade'), ('King', 'Coppe')]}\n"
     ]
    }
   ],
   "source": [
    "# a sample briscola state\n",
    "full_deck = [('Ace', 'Bastoni'), ('Ace', 'Denari'), ('Ace', 'Spade'), ('Ace', 'Coppe'),\n",
    "             ('2', 'Bastoni'), ('2', 'Denari'), ('2', 'Spade'), ('2', 'Coppe'),\n",
    "             ('3', 'Bastoni'), ('3', 'Denari'), ('3', 'Spade'), ('3', 'Coppe'),\n",
    "                 ('4', 'Bastoni'), ('4', 'Denari'), ('4', 'Spade'), ('4', 'Coppe'),\n",
    "                 ('5', 'Bastoni'), ('5', 'Denari'), ('5', 'Spade'), ('5', 'Coppe'),\n",
    "                 ('6', 'Bastoni'), ('6', 'Denari'), ('6', 'Spade'), ('6', 'Coppe'),\n",
    "                 ('7', 'Bastoni'), ('7', 'Denari'), ('7', 'Spade'), ('7', 'Coppe'),\n",
    "                 ('Jack', 'Bastoni'), ('Jack', 'Denari'), ('Jack', 'Spade'), ('Jack', 'Coppe'),\n",
    "                 ('Horse', 'Bastoni'), ('Horse', 'Denari'), ('Horse', 'Spade'), ('Horse', 'Coppe'),\n",
    "                 ('King', 'Bastoni'), ('King', 'Denari'), ('King', 'Spade'), ('King', 'Coppe')]\n",
    "    \n",
    "# the initial state is a random trump, random hands and a random player to move\n",
    "my_sample = random.sample(full_deck, 7)\n",
    "hand1, hand2, trump = my_sample[:3], my_sample[3:6], [my_sample[6]]\n",
    "# delete the cards from the deck\n",
    "deck = full_deck\n",
    "for card in my_sample:\n",
    "    deck.remove(card)\n",
    "\n",
    "trump = trump[0]\n",
    "some_state = {'hand1': hand1, 'hand2': hand2, 'table': [], 'player': random.choice([1, 2]), 'taken1': [], 'taken2': [], 'briscola': trump, 'deck': deck}   \n",
    "print(some_state)"
   ]
  },
  {
   "cell_type": "code",
   "execution_count": 4,
   "metadata": {},
   "outputs": [
    {
     "name": "stdout",
     "output_type": "stream",
     "text": [
      "Initial state:  {'hand1': [('Jack', 'Coppe'), ('5', 'Denari'), ('3', 'Coppe')], 'hand2': [('King', 'Bastoni'), ('6', 'Spade'), ('Ace', 'Spade')], 'table': [], 'player': 2, 'taken1': [], 'taken2': [], 'briscola': ('4', 'Denari'), 'deck': [('Ace', 'Bastoni'), ('Ace', 'Denari'), ('Ace', 'Coppe'), ('2', 'Bastoni'), ('2', 'Denari'), ('2', 'Spade'), ('2', 'Coppe'), ('3', 'Bastoni'), ('3', 'Denari'), ('3', 'Spade'), ('4', 'Bastoni'), ('4', 'Spade'), ('4', 'Coppe'), ('5', 'Bastoni'), ('5', 'Spade'), ('5', 'Coppe'), ('6', 'Bastoni'), ('6', 'Denari'), ('6', 'Coppe'), ('7', 'Bastoni'), ('7', 'Denari'), ('7', 'Spade'), ('7', 'Coppe'), ('Jack', 'Bastoni'), ('Jack', 'Denari'), ('Jack', 'Spade'), ('Horse', 'Bastoni'), ('Horse', 'Denari'), ('Horse', 'Spade'), ('Horse', 'Coppe'), ('King', 'Denari'), ('King', 'Spade'), ('King', 'Coppe')]}\n"
     ]
    },
    {
     "ename": "TypeError",
     "evalue": "generate_move() got an unexpected keyword argument 'state'",
     "output_type": "error",
     "traceback": [
      "\u001b[1;31m---------------------------------------------------------------------------\u001b[0m",
      "\u001b[1;31mTypeError\u001b[0m                                 Traceback (most recent call last)",
      "\u001b[1;32m~\\AppData\\Local\\Temp/ipykernel_4328/824692277.py\u001b[0m in \u001b[0;36m<module>\u001b[1;34m\u001b[0m\n\u001b[0;32m      1\u001b[0m \u001b[0mprint\u001b[0m\u001b[1;33m(\u001b[0m\u001b[1;34m\"Initial state: \"\u001b[0m\u001b[1;33m,\u001b[0m \u001b[0msome_state\u001b[0m\u001b[1;33m)\u001b[0m\u001b[1;33m\u001b[0m\u001b[1;33m\u001b[0m\u001b[0m\n\u001b[1;32m----> 2\u001b[1;33m \u001b[0mmcts_player_1\u001b[0m\u001b[1;33m.\u001b[0m\u001b[0mgenerate_move\u001b[0m\u001b[1;33m(\u001b[0m\u001b[0mstate\u001b[0m \u001b[1;33m=\u001b[0m \u001b[0msome_state\u001b[0m\u001b[1;33m,\u001b[0m \u001b[0mgame\u001b[0m \u001b[1;33m=\u001b[0m \u001b[0mBriscola\u001b[0m\u001b[1;33m(\u001b[0m\u001b[1;33m)\u001b[0m\u001b[1;33m)\u001b[0m\u001b[1;33m\u001b[0m\u001b[1;33m\u001b[0m\u001b[0m\n\u001b[0m",
      "\u001b[1;31mTypeError\u001b[0m: generate_move() got an unexpected keyword argument 'state'"
     ]
    }
   ],
   "source": [
    "print(\"Initial state: \", some_state)\n",
    "mcts_player_1.generate_move(some_state, Briscola())"
   ]
  },
  {
   "cell_type": "code",
   "execution_count": 9,
   "metadata": {},
   "outputs": [
    {
     "name": "stdout",
     "output_type": "stream",
     "text": [
      "GAME START\n",
      "The trump is:  ('Jack', 'Coppe')\n",
      "Player 1 hand:  [('6', 'Coppe'), ('6', 'Bastoni'), ('Horse', 'Bastoni')]\n",
      "Player 2 hand:  [('7', 'Bastoni'), ('7', 'Denari'), ('Jack', 'Denari')]\n",
      "The first to play is:  2\n"
     ]
    },
    {
     "ename": "IndexError",
     "evalue": "list index out of range",
     "output_type": "error",
     "traceback": [
      "\u001b[1;31m---------------------------------------------------------------------------\u001b[0m",
      "\u001b[1;31mIndexError\u001b[0m                                Traceback (most recent call last)",
      "\u001b[1;32m~\\AppData\\Local\\Temp/ipykernel_17944/1909515516.py\u001b[0m in \u001b[0;36m<module>\u001b[1;34m\u001b[0m\n\u001b[1;32m----> 1\u001b[1;33m \u001b[0mmy_game\u001b[0m\u001b[1;33m.\u001b[0m\u001b[0mplay_game\u001b[0m\u001b[1;33m(\u001b[0m\u001b[0mhuman_player_1\u001b[0m\u001b[1;33m,\u001b[0m \u001b[0mmcts_player_1\u001b[0m\u001b[1;33m)\u001b[0m\u001b[1;33m\u001b[0m\u001b[1;33m\u001b[0m\u001b[0m\n\u001b[0m",
      "\u001b[1;32mc:\\Users\\jakub\\OneDrive\\Dokumenty\\Github-repos\\briscola-mcts\\briscola_game.py\u001b[0m in \u001b[0;36mplay_game\u001b[1;34m(self, player1, player2)\u001b[0m\n\u001b[0;32m    155\u001b[0m                 \u001b[0mmove\u001b[0m \u001b[1;33m=\u001b[0m \u001b[0mplayer1\u001b[0m\u001b[1;33m.\u001b[0m\u001b[0mgenerate_move\u001b[0m\u001b[1;33m(\u001b[0m\u001b[0mstate\u001b[0m\u001b[1;33m,\u001b[0m \u001b[0mself\u001b[0m\u001b[1;33m)\u001b[0m\u001b[1;33m\u001b[0m\u001b[1;33m\u001b[0m\u001b[0m\n\u001b[0;32m    156\u001b[0m             \u001b[1;32melse\u001b[0m\u001b[1;33m:\u001b[0m\u001b[1;33m\u001b[0m\u001b[1;33m\u001b[0m\u001b[0m\n\u001b[1;32m--> 157\u001b[1;33m                 \u001b[0mmove\u001b[0m \u001b[1;33m=\u001b[0m \u001b[0mplayer2\u001b[0m\u001b[1;33m.\u001b[0m\u001b[0mgenerate_move\u001b[0m\u001b[1;33m(\u001b[0m\u001b[0mstate\u001b[0m\u001b[1;33m,\u001b[0m \u001b[0mself\u001b[0m\u001b[1;33m)\u001b[0m\u001b[1;33m\u001b[0m\u001b[1;33m\u001b[0m\u001b[0m\n\u001b[0m\u001b[0;32m    158\u001b[0m             \u001b[0mprint\u001b[0m\u001b[1;33m(\u001b[0m\u001b[1;34m\"The move is: \"\u001b[0m\u001b[1;33m,\u001b[0m \u001b[0mmove\u001b[0m\u001b[1;33m)\u001b[0m\u001b[1;33m\u001b[0m\u001b[1;33m\u001b[0m\u001b[0m\n\u001b[0;32m    159\u001b[0m             \u001b[1;31m# the move is applied to the state\u001b[0m\u001b[1;33m\u001b[0m\u001b[1;33m\u001b[0m\u001b[0m\n",
      "\u001b[1;32mc:\\Users\\jakub\\OneDrive\\Dokumenty\\Github-repos\\briscola-mcts\\players.py\u001b[0m in \u001b[0;36mgenerate_move\u001b[1;34m(self, state, game)\u001b[0m\n\u001b[0;32m     82\u001b[0m         \u001b[1;34m\"\"\"Choose a move based on the Monte Carlo Tree Search algorithm.\"\"\"\u001b[0m\u001b[1;33m\u001b[0m\u001b[1;33m\u001b[0m\u001b[0m\n\u001b[0;32m     83\u001b[0m         \u001b[0mstate_copy\u001b[0m \u001b[1;33m=\u001b[0m \u001b[0mdeepcopy\u001b[0m\u001b[1;33m(\u001b[0m\u001b[0mstate\u001b[0m\u001b[1;33m)\u001b[0m\u001b[1;33m\u001b[0m\u001b[1;33m\u001b[0m\u001b[0m\n\u001b[1;32m---> 84\u001b[1;33m         \u001b[1;32mreturn\u001b[0m \u001b[0mmonte_carlo_tree_search\u001b[0m\u001b[1;33m(\u001b[0m\u001b[0mstate_copy\u001b[0m\u001b[1;33m,\u001b[0m \u001b[0mgame\u001b[0m\u001b[1;33m,\u001b[0m \u001b[0mself\u001b[0m\u001b[1;33m.\u001b[0m\u001b[0msimulations\u001b[0m\u001b[1;33m)\u001b[0m\u001b[1;33m\u001b[0m\u001b[1;33m\u001b[0m\u001b[0m\n\u001b[0m\u001b[0;32m     85\u001b[0m \u001b[1;33m\u001b[0m\u001b[0m\n\u001b[0;32m     86\u001b[0m \u001b[1;33m\u001b[0m\u001b[0m\n",
      "\u001b[1;32mc:\\Users\\jakub\\OneDrive\\Dokumenty\\Github-repos\\briscola-mcts\\games4e.py\u001b[0m in \u001b[0;36mmonte_carlo_tree_search\u001b[1;34m(state, game, N)\u001b[0m\n\u001b[0;32m    221\u001b[0m         \u001b[0mleaf\u001b[0m \u001b[1;33m=\u001b[0m \u001b[0mselect\u001b[0m\u001b[1;33m(\u001b[0m\u001b[0mroot\u001b[0m\u001b[1;33m)\u001b[0m\u001b[1;33m\u001b[0m\u001b[1;33m\u001b[0m\u001b[0m\n\u001b[0;32m    222\u001b[0m         \u001b[0mchild\u001b[0m \u001b[1;33m=\u001b[0m \u001b[0mexpand\u001b[0m\u001b[1;33m(\u001b[0m\u001b[0mleaf\u001b[0m\u001b[1;33m)\u001b[0m\u001b[1;33m\u001b[0m\u001b[1;33m\u001b[0m\u001b[0m\n\u001b[1;32m--> 223\u001b[1;33m         \u001b[0mresult\u001b[0m \u001b[1;33m=\u001b[0m \u001b[0msimulate\u001b[0m\u001b[1;33m(\u001b[0m\u001b[0mgame\u001b[0m\u001b[1;33m,\u001b[0m \u001b[0mchild\u001b[0m\u001b[1;33m.\u001b[0m\u001b[0mstate\u001b[0m\u001b[1;33m)\u001b[0m\u001b[1;33m\u001b[0m\u001b[1;33m\u001b[0m\u001b[0m\n\u001b[0m\u001b[0;32m    224\u001b[0m         \u001b[0mbackprop\u001b[0m\u001b[1;33m(\u001b[0m\u001b[0mchild\u001b[0m\u001b[1;33m,\u001b[0m \u001b[0mresult\u001b[0m\u001b[1;33m)\u001b[0m\u001b[1;33m\u001b[0m\u001b[1;33m\u001b[0m\u001b[0m\n\u001b[0;32m    225\u001b[0m \u001b[1;33m\u001b[0m\u001b[0m\n",
      "\u001b[1;32mc:\\Users\\jakub\\OneDrive\\Dokumenty\\Github-repos\\briscola-mcts\\games4e.py\u001b[0m in \u001b[0;36msimulate\u001b[1;34m(game, state)\u001b[0m\n\u001b[0;32m    199\u001b[0m         \u001b[1;32mwhile\u001b[0m \u001b[1;32mnot\u001b[0m \u001b[0mgame\u001b[0m\u001b[1;33m.\u001b[0m\u001b[0mterminal_test\u001b[0m\u001b[1;33m(\u001b[0m\u001b[0mstate\u001b[0m\u001b[1;33m)\u001b[0m\u001b[1;33m:\u001b[0m\u001b[1;33m\u001b[0m\u001b[1;33m\u001b[0m\u001b[0m\n\u001b[0;32m    200\u001b[0m             \u001b[1;31m# print(\"The state is: \", state)\u001b[0m\u001b[1;33m\u001b[0m\u001b[1;33m\u001b[0m\u001b[0m\n\u001b[1;32m--> 201\u001b[1;33m             \u001b[0maction\u001b[0m \u001b[1;33m=\u001b[0m \u001b[0mrandom\u001b[0m\u001b[1;33m.\u001b[0m\u001b[0mchoice\u001b[0m\u001b[1;33m(\u001b[0m\u001b[0mlist\u001b[0m\u001b[1;33m(\u001b[0m\u001b[0mgame\u001b[0m\u001b[1;33m.\u001b[0m\u001b[0mactions\u001b[0m\u001b[1;33m(\u001b[0m\u001b[0mstate\u001b[0m\u001b[1;33m)\u001b[0m\u001b[1;33m)\u001b[0m\u001b[1;33m)\u001b[0m\u001b[1;33m\u001b[0m\u001b[1;33m\u001b[0m\u001b[0m\n\u001b[0m\u001b[0;32m    202\u001b[0m             \u001b[1;31m# print(\"The action is: \", action)\u001b[0m\u001b[1;33m\u001b[0m\u001b[1;33m\u001b[0m\u001b[0m\n\u001b[0;32m    203\u001b[0m             \u001b[0mstate\u001b[0m \u001b[1;33m=\u001b[0m \u001b[0mgame\u001b[0m\u001b[1;33m.\u001b[0m\u001b[0mresult\u001b[0m\u001b[1;33m(\u001b[0m\u001b[0mstate\u001b[0m\u001b[1;33m,\u001b[0m \u001b[0maction\u001b[0m\u001b[1;33m)\u001b[0m\u001b[1;33m\u001b[0m\u001b[1;33m\u001b[0m\u001b[0m\n",
      "\u001b[1;32mc:\\Users\\jakub\\anaconda\\lib\\random.py\u001b[0m in \u001b[0;36mchoice\u001b[1;34m(self, seq)\u001b[0m\n\u001b[0;32m    344\u001b[0m         \u001b[1;34m\"\"\"Choose a random element from a non-empty sequence.\"\"\"\u001b[0m\u001b[1;33m\u001b[0m\u001b[1;33m\u001b[0m\u001b[0m\n\u001b[0;32m    345\u001b[0m         \u001b[1;31m# raises IndexError if seq is empty\u001b[0m\u001b[1;33m\u001b[0m\u001b[1;33m\u001b[0m\u001b[0m\n\u001b[1;32m--> 346\u001b[1;33m         \u001b[1;32mreturn\u001b[0m \u001b[0mseq\u001b[0m\u001b[1;33m[\u001b[0m\u001b[0mself\u001b[0m\u001b[1;33m.\u001b[0m\u001b[0m_randbelow\u001b[0m\u001b[1;33m(\u001b[0m\u001b[0mlen\u001b[0m\u001b[1;33m(\u001b[0m\u001b[0mseq\u001b[0m\u001b[1;33m)\u001b[0m\u001b[1;33m)\u001b[0m\u001b[1;33m]\u001b[0m\u001b[1;33m\u001b[0m\u001b[1;33m\u001b[0m\u001b[0m\n\u001b[0m\u001b[0;32m    347\u001b[0m \u001b[1;33m\u001b[0m\u001b[0m\n\u001b[0;32m    348\u001b[0m     \u001b[1;32mdef\u001b[0m \u001b[0mshuffle\u001b[0m\u001b[1;33m(\u001b[0m\u001b[0mself\u001b[0m\u001b[1;33m,\u001b[0m \u001b[0mx\u001b[0m\u001b[1;33m,\u001b[0m \u001b[0mrandom\u001b[0m\u001b[1;33m=\u001b[0m\u001b[1;32mNone\u001b[0m\u001b[1;33m)\u001b[0m\u001b[1;33m:\u001b[0m\u001b[1;33m\u001b[0m\u001b[1;33m\u001b[0m\u001b[0m\n",
      "\u001b[1;31mIndexError\u001b[0m: list index out of range"
     ]
    }
   ],
   "source": [
    "my_game.play_game(human_player_1, mcts_player_1)"
   ]
  }
 ],
 "metadata": {
  "kernelspec": {
   "display_name": "base",
   "language": "python",
   "name": "python3"
  },
  "language_info": {
   "codemirror_mode": {
    "name": "ipython",
    "version": 3
   },
   "file_extension": ".py",
   "mimetype": "text/x-python",
   "name": "python",
   "nbconvert_exporter": "python",
   "pygments_lexer": "ipython3",
   "version": "3.9.7"
  }
 },
 "nbformat": 4,
 "nbformat_minor": 2
}
